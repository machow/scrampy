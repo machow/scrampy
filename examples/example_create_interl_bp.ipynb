{
 "cells": [
  {
   "cell_type": "code",
   "execution_count": 1,
   "metadata": {
    "collapsed": true
   },
   "outputs": [],
   "source": [
    "from scrampy import splice\n",
    "import pandas as pd"
   ]
  },
  {
   "cell_type": "markdown",
   "metadata": {},
   "source": [
    "Read in Blueprints\n",
    "------------------"
   ]
  },
  {
   "cell_type": "code",
   "execution_count": 19,
   "metadata": {
    "collapsed": false
   },
   "outputs": [
    {
     "data": {
      "text/html": [
       "<div>\n",
       "<table border=\"1\" class=\"dataframe\">\n",
       "  <thead>\n",
       "    <tr style=\"text-align: right;\">\n",
       "      <th></th>\n",
       "      <th>end</th>\n",
       "      <th>name</th>\n",
       "      <th>order</th>\n",
       "      <th>start</th>\n",
       "      <th>length</th>\n",
       "    </tr>\n",
       "  </thead>\n",
       "  <tbody>\n",
       "    <tr>\n",
       "      <th>0</th>\n",
       "      <td>26970</td>\n",
       "      <td>pieman</td>\n",
       "      <td>0</td>\n",
       "      <td>14000</td>\n",
       "      <td>12970</td>\n",
       "    </tr>\n",
       "    <tr>\n",
       "      <th>1</th>\n",
       "      <td>41620</td>\n",
       "      <td>pieman</td>\n",
       "      <td>1</td>\n",
       "      <td>26970</td>\n",
       "      <td>14650</td>\n",
       "    </tr>\n",
       "  </tbody>\n",
       "</table>\n",
       "</div>"
      ],
      "text/plain": [
       "     end    name  order  start  length\n",
       "0  26970  pieman      0  14000   12970\n",
       "1  41620  pieman      1  26970   14650"
      ]
     },
     "execution_count": 19,
     "metadata": {},
     "output_type": "execute_result"
    }
   ],
   "source": [
    "ntf = pd.read_csv('aud/NTF/NotTheFall_sentence_blueprint.csv')\n",
    "pie = pd.read_csv('aud/pieman/pieman_blueprint.csv')\n",
    "pie"
   ]
  },
  {
   "cell_type": "markdown",
   "metadata": {},
   "source": [
    "Make Intact Blueprint\n",
    "--------------------------------------"
   ]
  },
  {
   "cell_type": "code",
   "execution_count": 22,
   "metadata": {
    "collapsed": false
   },
   "outputs": [
    {
     "data": {
      "text/html": [
       "<div>\n",
       "<table border=\"1\" class=\"dataframe\">\n",
       "  <thead>\n",
       "    <tr style=\"text-align: right;\">\n",
       "      <th></th>\n",
       "      <th>end</th>\n",
       "      <th>name</th>\n",
       "      <th>order</th>\n",
       "      <th>start</th>\n",
       "      <th>length</th>\n",
       "    </tr>\n",
       "  </thead>\n",
       "  <tbody>\n",
       "    <tr>\n",
       "      <th>0</th>\n",
       "      <td>8921</td>\n",
       "      <td>NTF</td>\n",
       "      <td>0</td>\n",
       "      <td>0</td>\n",
       "      <td>8921</td>\n",
       "    </tr>\n",
       "    <tr>\n",
       "      <th>1</th>\n",
       "      <td>19694</td>\n",
       "      <td>NTF</td>\n",
       "      <td>1</td>\n",
       "      <td>8921</td>\n",
       "      <td>10773</td>\n",
       "    </tr>\n",
       "    <tr>\n",
       "      <th>0</th>\n",
       "      <td>26970</td>\n",
       "      <td>pieman</td>\n",
       "      <td>0</td>\n",
       "      <td>14000</td>\n",
       "      <td>12970</td>\n",
       "    </tr>\n",
       "    <tr>\n",
       "      <th>1</th>\n",
       "      <td>41620</td>\n",
       "      <td>pieman</td>\n",
       "      <td>1</td>\n",
       "      <td>26970</td>\n",
       "      <td>14650</td>\n",
       "    </tr>\n",
       "  </tbody>\n",
       "</table>\n",
       "</div>"
      ],
      "text/plain": [
       "     end    name  order  start  length\n",
       "0   8921     NTF      0      0    8921\n",
       "1  19694     NTF      1   8921   10773\n",
       "0  26970  pieman      0  14000   12970\n",
       "1  41620  pieman      1  26970   14650"
      ]
     },
     "execution_count": 22,
     "metadata": {},
     "output_type": "execute_result"
    }
   ],
   "source": [
    "# simple intact\n",
    "intact = pd.concat([ntf, pie])\n",
    "intact"
   ]
  },
  {
   "cell_type": "code",
   "execution_count": 25,
   "metadata": {
    "collapsed": false
   },
   "outputs": [
    {
     "data": {
      "text/html": [
       "<div>\n",
       "<table border=\"1\" class=\"dataframe\">\n",
       "  <thead>\n",
       "    <tr style=\"text-align: right;\">\n",
       "      <th></th>\n",
       "      <th>name</th>\n",
       "      <th>start</th>\n",
       "      <th>end</th>\n",
       "      <th>length</th>\n",
       "      <th>order</th>\n",
       "    </tr>\n",
       "  </thead>\n",
       "  <tbody>\n",
       "    <tr>\n",
       "      <th>0</th>\n",
       "      <td>NTF</td>\n",
       "      <td>0</td>\n",
       "      <td>8921</td>\n",
       "      <td>8921</td>\n",
       "      <td>0</td>\n",
       "    </tr>\n",
       "    <tr>\n",
       "      <th>1</th>\n",
       "      <td>gap</td>\n",
       "      <td>0</td>\n",
       "      <td>1579</td>\n",
       "      <td>1579</td>\n",
       "      <td>-1</td>\n",
       "    </tr>\n",
       "    <tr>\n",
       "      <th>2</th>\n",
       "      <td>NTF</td>\n",
       "      <td>8921</td>\n",
       "      <td>19694</td>\n",
       "      <td>10773</td>\n",
       "      <td>1</td>\n",
       "    </tr>\n",
       "    <tr>\n",
       "      <th>3</th>\n",
       "      <td>gap</td>\n",
       "      <td>0</td>\n",
       "      <td>1227</td>\n",
       "      <td>1227</td>\n",
       "      <td>-1</td>\n",
       "    </tr>\n",
       "    <tr>\n",
       "      <th>4</th>\n",
       "      <td>pieman</td>\n",
       "      <td>14000</td>\n",
       "      <td>26970</td>\n",
       "      <td>12970</td>\n",
       "      <td>0</td>\n",
       "    </tr>\n",
       "    <tr>\n",
       "      <th>5</th>\n",
       "      <td>gap</td>\n",
       "      <td>0</td>\n",
       "      <td>2030</td>\n",
       "      <td>2030</td>\n",
       "      <td>-1</td>\n",
       "    </tr>\n",
       "    <tr>\n",
       "      <th>6</th>\n",
       "      <td>pieman</td>\n",
       "      <td>26970</td>\n",
       "      <td>41620</td>\n",
       "      <td>14650</td>\n",
       "      <td>1</td>\n",
       "    </tr>\n",
       "    <tr>\n",
       "      <th>7</th>\n",
       "      <td>gap</td>\n",
       "      <td>0</td>\n",
       "      <td>1850</td>\n",
       "      <td>1850</td>\n",
       "      <td>-1</td>\n",
       "    </tr>\n",
       "  </tbody>\n",
       "</table>\n",
       "</div>"
      ],
      "text/plain": [
       "     name  start    end  length  order\n",
       "0     NTF      0   8921    8921      0\n",
       "1     gap      0   1579    1579     -1\n",
       "2     NTF   8921  19694   10773      1\n",
       "3     gap      0   1227    1227     -1\n",
       "4  pieman  14000  26970   12970      0\n",
       "5     gap      0   2030    2030     -1\n",
       "6  pieman  26970  41620   14650      1\n",
       "7     gap      0   1850    1850     -1"
      ]
     },
     "execution_count": 25,
     "metadata": {},
     "output_type": "execute_result"
    }
   ],
   "source": [
    "gaps_intact = splice.insert_gaps(intact)\n",
    "gaps_intact"
   ]
  },
  {
   "cell_type": "markdown",
   "metadata": {},
   "source": [
    "Make Interleaved Blueprint\n",
    "--------------------------"
   ]
  },
  {
   "cell_type": "code",
   "execution_count": 34,
   "metadata": {
    "collapsed": false
   },
   "outputs": [],
   "source": [
    "# loc grabs row using its index value (e.g. 0 or 1)\n",
    "interl = intact.loc[[0,1]]"
   ]
  },
  {
   "cell_type": "code",
   "execution_count": 35,
   "metadata": {
    "collapsed": false
   },
   "outputs": [
    {
     "data": {
      "text/html": [
       "<div>\n",
       "<table border=\"1\" class=\"dataframe\">\n",
       "  <thead>\n",
       "    <tr style=\"text-align: right;\">\n",
       "      <th></th>\n",
       "      <th>name</th>\n",
       "      <th>start</th>\n",
       "      <th>end</th>\n",
       "      <th>length</th>\n",
       "      <th>order</th>\n",
       "    </tr>\n",
       "  </thead>\n",
       "  <tbody>\n",
       "    <tr>\n",
       "      <th>0</th>\n",
       "      <td>NTF</td>\n",
       "      <td>0</td>\n",
       "      <td>8921</td>\n",
       "      <td>8921</td>\n",
       "      <td>0</td>\n",
       "    </tr>\n",
       "    <tr>\n",
       "      <th>1</th>\n",
       "      <td>gap</td>\n",
       "      <td>0</td>\n",
       "      <td>1579</td>\n",
       "      <td>1579</td>\n",
       "      <td>-1</td>\n",
       "    </tr>\n",
       "    <tr>\n",
       "      <th>2</th>\n",
       "      <td>pieman</td>\n",
       "      <td>14000</td>\n",
       "      <td>26970</td>\n",
       "      <td>12970</td>\n",
       "      <td>0</td>\n",
       "    </tr>\n",
       "    <tr>\n",
       "      <th>3</th>\n",
       "      <td>gap</td>\n",
       "      <td>0</td>\n",
       "      <td>2030</td>\n",
       "      <td>2030</td>\n",
       "      <td>-1</td>\n",
       "    </tr>\n",
       "    <tr>\n",
       "      <th>4</th>\n",
       "      <td>NTF</td>\n",
       "      <td>8921</td>\n",
       "      <td>19694</td>\n",
       "      <td>10773</td>\n",
       "      <td>1</td>\n",
       "    </tr>\n",
       "    <tr>\n",
       "      <th>5</th>\n",
       "      <td>gap</td>\n",
       "      <td>0</td>\n",
       "      <td>1227</td>\n",
       "      <td>1227</td>\n",
       "      <td>-1</td>\n",
       "    </tr>\n",
       "    <tr>\n",
       "      <th>6</th>\n",
       "      <td>pieman</td>\n",
       "      <td>26970</td>\n",
       "      <td>41620</td>\n",
       "      <td>14650</td>\n",
       "      <td>1</td>\n",
       "    </tr>\n",
       "    <tr>\n",
       "      <th>7</th>\n",
       "      <td>gap</td>\n",
       "      <td>0</td>\n",
       "      <td>1850</td>\n",
       "      <td>1850</td>\n",
       "      <td>-1</td>\n",
       "    </tr>\n",
       "  </tbody>\n",
       "</table>\n",
       "</div>"
      ],
      "text/plain": [
       "     name  start    end  length  order\n",
       "0     NTF      0   8921    8921      0\n",
       "1     gap      0   1579    1579     -1\n",
       "2  pieman  14000  26970   12970      0\n",
       "3     gap      0   2030    2030     -1\n",
       "4     NTF   8921  19694   10773      1\n",
       "5     gap      0   1227    1227     -1\n",
       "6  pieman  26970  41620   14650      1\n",
       "7     gap      0   1850    1850     -1"
      ]
     },
     "execution_count": 35,
     "metadata": {},
     "output_type": "execute_result"
    }
   ],
   "source": [
    "splice.insert_gaps(interl)"
   ]
  },
  {
   "cell_type": "markdown",
   "metadata": {},
   "source": [
    "Full Example\n",
    "------------"
   ]
  },
  {
   "cell_type": "code",
   "execution_count": 39,
   "metadata": {
    "collapsed": false
   },
   "outputs": [],
   "source": [
    "from scrampy import splice\n",
    "import pandas as pd\n",
    "from pydub.audio_segment import AudioSegment\n",
    "from pydub.playback import play\n",
    "\n",
    "bp_cat = pd.concat([\n",
    "    pd.read_csv('aud/NTF/NotTheFall_sentence_blueprint.csv'),\n",
    "    pd.read_csv('aud/pieman/pieman_blueprint.csv')\n",
    "    ])\n",
    "\n",
    "bp_out = splice.insert_gaps(bp_cat.loc[[0,1]])\n",
    "aud_paths = dict(pieman = 'aud/pieman/pieman.mp3', \n",
    "                 NTF = 'aud/NTF/NotTheFall.mp3', \n",
    "                 gap = 'aud/silence.mp3')\n",
    "aud_files = {k: AudioSegment.from_mp3(v) for k,v in aud_paths.items()}\n",
    "\n",
    "# interleaved audio\n",
    "audio = splice.aud_from_log(bp_out, **aud_files)\n",
    "\n",
    "#play(audio)"
   ]
  },
  {
   "cell_type": "markdown",
   "metadata": {},
   "source": [
    "Using a Simple log of Breakpoints Instead\n",
    "-----------------------------------------\n",
    "\n",
    "The code below shows how to format a simple log of splitpoints.\n",
    "Once formatted, it can be combined with other blueprints as above."
   ]
  },
  {
   "cell_type": "code",
   "execution_count": 14,
   "metadata": {
    "collapsed": false
   },
   "outputs": [
    {
     "data": {
      "text/html": [
       "<div>\n",
       "<table border=\"1\" class=\"dataframe\">\n",
       "  <thead>\n",
       "    <tr style=\"text-align: right;\">\n",
       "      <th></th>\n",
       "      <th>name</th>\n",
       "      <th>break</th>\n",
       "    </tr>\n",
       "  </thead>\n",
       "  <tbody>\n",
       "    <tr>\n",
       "      <th>0</th>\n",
       "      <td>NTF</td>\n",
       "      <td>0:00.000</td>\n",
       "    </tr>\n",
       "    <tr>\n",
       "      <th>1</th>\n",
       "      <td>NTF</td>\n",
       "      <td>0:08.921</td>\n",
       "    </tr>\n",
       "    <tr>\n",
       "      <th>2</th>\n",
       "      <td>NTF</td>\n",
       "      <td>0:19.694</td>\n",
       "    </tr>\n",
       "  </tbody>\n",
       "</table>\n",
       "</div>"
      ],
      "text/plain": [
       "  name     break\n",
       "0  NTF  0:00.000\n",
       "1  NTF  0:08.921\n",
       "2  NTF  0:19.694"
      ]
     },
     "execution_count": 14,
     "metadata": {},
     "output_type": "execute_result"
    }
   ],
   "source": [
    "# read in data as \n",
    "#   - name of audio \n",
    "#   - break points (in clock time)\n",
    "splits = pd.read_csv('aud/NTF/NotTheFall_sentence_splitpoints.txt')\n",
    "splits"
   ]
  },
  {
   "cell_type": "code",
   "execution_count": 15,
   "metadata": {
    "collapsed": false
   },
   "outputs": [
    {
     "data": {
      "text/html": [
       "<div>\n",
       "<table border=\"1\" class=\"dataframe\">\n",
       "  <thead>\n",
       "    <tr style=\"text-align: right;\">\n",
       "      <th></th>\n",
       "      <th>name</th>\n",
       "      <th>start</th>\n",
       "      <th>end</th>\n",
       "      <th>length</th>\n",
       "      <th>order</th>\n",
       "    </tr>\n",
       "  </thead>\n",
       "  <tbody>\n",
       "    <tr>\n",
       "      <th>0</th>\n",
       "      <td>NTF</td>\n",
       "      <td>0</td>\n",
       "      <td>8921</td>\n",
       "      <td>8921</td>\n",
       "      <td>0</td>\n",
       "    </tr>\n",
       "    <tr>\n",
       "      <th>1</th>\n",
       "      <td>NTF</td>\n",
       "      <td>8921</td>\n",
       "      <td>19694</td>\n",
       "      <td>10773</td>\n",
       "      <td>1</td>\n",
       "    </tr>\n",
       "  </tbody>\n",
       "</table>\n",
       "</div>"
      ],
      "text/plain": [
       "  name  start    end  length  order\n",
       "0  NTF      0   8921    8921      0\n",
       "1  NTF   8921  19694   10773      1"
      ]
     },
     "execution_count": 15,
     "metadata": {},
     "output_type": "execute_result"
    }
   ],
   "source": [
    "# parse to blueprint\n",
    "bp = splice.parse_splits(splits)\n",
    "bp"
   ]
  }
 ],
 "metadata": {
  "kernelspec": {
   "display_name": "Python 2",
   "language": "python",
   "name": "python2"
  },
  "language_info": {
   "codemirror_mode": {
    "name": "ipython",
    "version": 2
   },
   "file_extension": ".py",
   "mimetype": "text/x-python",
   "name": "python",
   "nbconvert_exporter": "python",
   "pygments_lexer": "ipython2",
   "version": "2.7.10"
  }
 },
 "nbformat": 4,
 "nbformat_minor": 0
}
