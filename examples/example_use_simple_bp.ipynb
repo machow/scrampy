{
 "cells": [
  {
   "cell_type": "code",
   "execution_count": 1,
   "metadata": {
    "collapsed": true
   },
   "outputs": [],
   "source": [
    "from scrampy import splice\n",
    "import pandas as pd\n",
    "from pydub.audio_segment import AudioSegment"
   ]
  },
  {
   "cell_type": "markdown",
   "metadata": {},
   "source": [
    "Read in Blueprint\n",
    "-----------------"
   ]
  },
  {
   "cell_type": "code",
   "execution_count": 2,
   "metadata": {
    "collapsed": false
   },
   "outputs": [
    {
     "data": {
      "text/html": [
       "<div>\n",
       "<table border=\"1\" class=\"dataframe\">\n",
       "  <thead>\n",
       "    <tr style=\"text-align: right;\">\n",
       "      <th></th>\n",
       "      <th>name</th>\n",
       "      <th>start</th>\n",
       "      <th>end</th>\n",
       "      <th>length</th>\n",
       "      <th>order</th>\n",
       "    </tr>\n",
       "  </thead>\n",
       "  <tbody>\n",
       "    <tr>\n",
       "      <th>0</th>\n",
       "      <td>NTF</td>\n",
       "      <td>0</td>\n",
       "      <td>8921</td>\n",
       "      <td>8921</td>\n",
       "      <td>0</td>\n",
       "    </tr>\n",
       "    <tr>\n",
       "      <th>1</th>\n",
       "      <td>gap</td>\n",
       "      <td>0</td>\n",
       "      <td>1579</td>\n",
       "      <td>1579</td>\n",
       "      <td>-1</td>\n",
       "    </tr>\n",
       "    <tr>\n",
       "      <th>2</th>\n",
       "      <td>pieman</td>\n",
       "      <td>14000</td>\n",
       "      <td>26970</td>\n",
       "      <td>12970</td>\n",
       "      <td>0</td>\n",
       "    </tr>\n",
       "    <tr>\n",
       "      <th>3</th>\n",
       "      <td>gap</td>\n",
       "      <td>0</td>\n",
       "      <td>2030</td>\n",
       "      <td>2030</td>\n",
       "      <td>-1</td>\n",
       "    </tr>\n",
       "    <tr>\n",
       "      <th>4</th>\n",
       "      <td>NTF</td>\n",
       "      <td>8921</td>\n",
       "      <td>19694</td>\n",
       "      <td>10773</td>\n",
       "      <td>1</td>\n",
       "    </tr>\n",
       "    <tr>\n",
       "      <th>5</th>\n",
       "      <td>gap</td>\n",
       "      <td>0</td>\n",
       "      <td>1227</td>\n",
       "      <td>1227</td>\n",
       "      <td>-1</td>\n",
       "    </tr>\n",
       "    <tr>\n",
       "      <th>6</th>\n",
       "      <td>pieman</td>\n",
       "      <td>26970</td>\n",
       "      <td>41620</td>\n",
       "      <td>14650</td>\n",
       "      <td>1</td>\n",
       "    </tr>\n",
       "    <tr>\n",
       "      <th>7</th>\n",
       "      <td>gap</td>\n",
       "      <td>0</td>\n",
       "      <td>1850</td>\n",
       "      <td>1850</td>\n",
       "      <td>-1</td>\n",
       "    </tr>\n",
       "  </tbody>\n",
       "</table>\n",
       "</div>"
      ],
      "text/plain": [
       "     name  start    end  length  order\n",
       "0     NTF      0   8921    8921      0\n",
       "1     gap      0   1579    1579     -1\n",
       "2  pieman  14000  26970   12970      0\n",
       "3     gap      0   2030    2030     -1\n",
       "4     NTF   8921  19694   10773      1\n",
       "5     gap      0   1227    1227     -1\n",
       "6  pieman  26970  41620   14650      1\n",
       "7     gap      0   1850    1850     -1"
      ]
     },
     "execution_count": 2,
     "metadata": {},
     "output_type": "execute_result"
    }
   ],
   "source": [
    "bp = pd.read_csv('simple/interl+gaps_blueprint.csv', index_col=0)\n",
    "bp"
   ]
  },
  {
   "cell_type": "markdown",
   "metadata": {},
   "source": [
    "Load Audio and Use Blueprint to Interleave\n",
    "---------------------------------------------"
   ]
  },
  {
   "cell_type": "code",
   "execution_count": 3,
   "metadata": {
    "collapsed": false
   },
   "outputs": [],
   "source": [
    "aud_paths = {\n",
    "    'NTF':    'aud/NTF/NotTheFall.mp3',\n",
    "    'pieman': 'aud/pieman/pieman.mp3',\n",
    "    'gap':    'aud/silence.mp3'\n",
    "}\n",
    "\n",
    "aud_files = {k: AudioSegment.from_mp3(v) for k,v in aud_paths.items()}\n",
    "\n",
    "interl = splice.aud_from_log(bp, **aud_files)"
   ]
  },
  {
   "cell_type": "markdown",
   "metadata": {},
   "source": [
    "Examine Interleaved Audio\n",
    "-------------------------"
   ]
  },
  {
   "cell_type": "code",
   "execution_count": 4,
   "metadata": {
    "collapsed": false
   },
   "outputs": [
    {
     "name": "stdout",
     "output_type": "stream",
     "text": [
      "54000\n",
      "1571 , -26.3854749984\n",
      "1400 , -27.3864379856\n"
     ]
    }
   ],
   "source": [
    "# length in milliseconds\n",
    "print len(interl)\n",
    "\n",
    "# decrease volume slightly\n",
    "shh_interl = interl - 1\n",
    "\n",
    "# Summaries of amplitude\n",
    "print interl.rms, ',', interl.dBFS\n",
    "print shh_interl.rms, ',', shh_interl.dBFS"
   ]
  },
  {
   "cell_type": "markdown",
   "metadata": {},
   "source": [
    "Pull out Pieman Segments\n",
    "------------------------"
   ]
  },
  {
   "cell_type": "code",
   "execution_count": 22,
   "metadata": {
    "collapsed": false
   },
   "outputs": [
    {
     "data": {
      "text/plain": [
       "True"
      ]
     },
     "execution_count": 22,
     "metadata": {},
     "output_type": "execute_result"
    }
   ],
   "source": [
    "# just the pieman segments\n",
    "bp_pie = bp[bp['name'] == 'pieman']\n",
    "aud_pie = aud_files['pieman']\n",
    "\n",
    "# create blueprint for interleaved audio\n",
    "bp_interl = bp.copy()\n",
    "splice.update_splits(bp_interl)\n",
    "bp_interl_pie = splice.align_blueprints(bp_interl, bp_pie, src_on=('name', 'order'))\n",
    "\n",
    "# get pieman clip from original\n",
    "start, end = bp_pie[['start', 'end']].iloc[0]\n",
    "orig_clip = aud_pie[start:end]\n",
    "\n",
    "# get from interleaved\n",
    "start, end = bp_interl_pie[['start', 'end']].iloc[0]\n",
    "new_clip  = interl[start:end]\n",
    "\n",
    "# same length\n",
    "len(orig_clip) == len(new_clip)"
   ]
  },
  {
   "cell_type": "markdown",
   "metadata": {},
   "source": [
    "Play Each Clip\n",
    "--------------"
   ]
  },
  {
   "cell_type": "code",
   "execution_count": 12,
   "metadata": {
    "collapsed": false
   },
   "outputs": [],
   "source": [
    "from pydub.playback import play\n",
    "#play(orig_clip)\n",
    "#play(new_clip)"
   ]
  }
 ],
 "metadata": {
  "kernelspec": {
   "display_name": "Python 2",
   "language": "python",
   "name": "python2"
  },
  "language_info": {
   "codemirror_mode": {
    "name": "ipython",
    "version": 2
   },
   "file_extension": ".py",
   "mimetype": "text/x-python",
   "name": "python",
   "nbconvert_exporter": "python",
   "pygments_lexer": "ipython2",
   "version": "2.7.10"
  }
 },
 "nbformat": 4,
 "nbformat_minor": 0
}
